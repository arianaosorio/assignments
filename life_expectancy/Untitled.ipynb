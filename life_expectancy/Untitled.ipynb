{
 "cells": [
  {
   "cell_type": "code",
   "execution_count": null,
   "id": "0f652989-b3ce-418a-8e26-f752cbb79ed5",
   "metadata": {},
   "outputs": [],
   "source": [
    "import os\n",
    "\n",
    "import pandas as pd\n",
    "\n",
    "from life_expectancy.cleaning import clean_data\n",
    "from life_expectancy.constants import DATA_DIR\n",
    "from life_expectancy.file_handlers import save_data"
   ]
  },
  {
   "cell_type": "code",
   "execution_count": null,
   "id": "17014f68-a399-4cd2-b616-05e04674dac0",
   "metadata": {},
   "outputs": [],
   "source": [
    "dataset = load_data(os.path.join(DATA_DIR, \"eu_life_expectancy_raw.tsv\"))"
   ]
  },
  {
   "cell_type": "code",
   "execution_count": null,
   "id": "6e79569c-2369-4810-ba27-b55c5ca829e4",
   "metadata": {},
   "outputs": [],
   "source": [
    "dataset"
   ]
  },
  {
   "cell_type": "code",
   "execution_count": null,
   "id": "431f1a2b-e2bb-4520-9f0e-2125adbb0f35",
   "metadata": {},
   "outputs": [],
   "source": [
    "data = dataset.copy()\n",
    "\n",
    "data[[\"unit\", \"sex\", \"age\", \"region\"]] = data[\"unit,sex,age,geo\\\\time\"].str.split(\n",
    "    \",\", expand=True\n",
    ")\n",
    "\n",
    "data.drop(columns=[\"unit,sex,age,geo\\\\time\"], inplace=True)\n",
    "\n",
    "data = pd.melt(data, id_vars=[\"unit\", \"sex\", \"age\", \"region\"], var_name=\"year\")\n",
    "\n",
    "data[\"year\"] = data[\"year\"].astype(\"int\")\n",
    "data[\"value\"] = data.value.str.extract(r\"(\\d+\\.\\d)\").astype(\"float\")\n",
    "\n",
    "clean_dataset = data.dropna()"
   ]
  },
  {
   "cell_type": "code",
   "execution_count": null,
   "id": "adc9813f-2134-4ff2-a3e2-df31fc62b8eb",
   "metadata": {},
   "outputs": [],
   "source": [
    "clean_dataset['region'].unique()"
   ]
  },
  {
   "cell_type": "code",
   "execution_count": null,
   "id": "d3a8db7b-1a99-4562-95f6-01fbf57678a3",
   "metadata": {},
   "outputs": [],
   "source": [
    "from life_expectancy.constants import Country"
   ]
  },
  {
   "cell_type": "code",
   "execution_count": null,
   "id": "dedc95a8-b79c-4032-90a9-c27c3bdc67b6",
   "metadata": {},
   "outputs": [],
   "source": [
    "Country"
   ]
  },
  {
   "cell_type": "code",
   "execution_count": null,
   "id": "97bd8f86-89ba-4aed-ae78-2f9811e26b86",
   "metadata": {},
   "outputs": [],
   "source": [
    "Country.get_actual_countries()"
   ]
  },
  {
   "cell_type": "code",
   "execution_count": null,
   "id": "783f2a66-0d3b-421f-80c6-116f1123c975",
   "metadata": {},
   "outputs": [],
   "source": [
    "Country.PT.value"
   ]
  },
  {
   "cell_type": "code",
   "execution_count": null,
   "id": "fdb80dc7-bf0d-4857-a36a-f566c06ee0e3",
   "metadata": {},
   "outputs": [],
   "source": [
    "from life_expectancy.file_handlers import TSVFileHandler, JSONFileHandler\n",
    "from life_expectancy.tests import FIXTURES_DIR"
   ]
  },
  {
   "cell_type": "code",
   "execution_count": null,
   "id": "f2e2fc05-df97-4a47-84ea-226f1b8077ef",
   "metadata": {},
   "outputs": [],
   "source": [
    "data = TSVFileHandler().load_data(FIXTURES_DIR / \"dummy_dataset.tsv\")"
   ]
  },
  {
   "cell_type": "code",
   "execution_count": null,
   "id": "183f155d-baf7-4506-9e1d-486610698e0d",
   "metadata": {},
   "outputs": [],
   "source": [
    "data"
   ]
  },
  {
   "cell_type": "code",
   "execution_count": null,
   "id": "ff3e1189-a4ca-4e22-ba09-b8207ab2a2b0",
   "metadata": {},
   "outputs": [],
   "source": [
    "DATA_DIR"
   ]
  },
  {
   "cell_type": "code",
   "execution_count": null,
   "id": "9744750b-e31e-47a6-a626-bc69f3e9866d",
   "metadata": {},
   "outputs": [],
   "source": [
    "data1 = JSONFileHandler().load_data(os.path.join(DATA_DIR, \"eurostat_life_expect.json\"))"
   ]
  },
  {
   "cell_type": "code",
   "execution_count": null,
   "id": "237abc6c-07c3-4ddd-9ffd-0f773fe23aac",
   "metadata": {},
   "outputs": [],
   "source": [
    "data1"
   ]
  },
  {
   "cell_type": "code",
   "execution_count": null,
   "id": "35b7227f-0dea-4531-af6a-3d625fadc176",
   "metadata": {},
   "outputs": [],
   "source": []
  },
  {
   "cell_type": "code",
   "execution_count": null,
   "id": "4562d37d-78eb-4fea-90a4-49c87d8538cd",
   "metadata": {},
   "outputs": [],
   "source": []
  },
  {
   "cell_type": "code",
   "execution_count": null,
   "id": "daa7bbbc-9b53-4e83-b811-4b963c4674fd",
   "metadata": {},
   "outputs": [],
   "source": [
    "from life_expectancy.file_handlers import JSONFileHandler\n",
    "from life_expectancy.cleaning import JSONCleaner\n",
    "from life_expectancy.enums import Country\n",
    "\n",
    "import os\n",
    "import pandas as pd\n",
    "from life_expectancy.constants import DATA_DIR"
   ]
  },
  {
   "cell_type": "code",
   "execution_count": null,
   "id": "faea5b64-50e0-4764-993e-614e2a100b0b",
   "metadata": {},
   "outputs": [],
   "source": [
    "df = JSONFileHandler().load_data(os.path.join(DATA_DIR, \"eurostat_life_expect.json\"))\n",
    "df"
   ]
  },
  {
   "cell_type": "code",
   "execution_count": null,
   "id": "a03bf472-aa32-4891-9a7b-329189514829",
   "metadata": {},
   "outputs": [],
   "source": [
    "df.dtypes"
   ]
  },
  {
   "cell_type": "code",
   "execution_count": null,
   "id": "19b1f659-74ee-45ca-a0e1-22d8db7fcb87",
   "metadata": {},
   "outputs": [],
   "source": [
    "df.rename(columns= {'country': 'region', 'life_expectancy': 'value'}, inplace=True)"
   ]
  },
  {
   "cell_type": "code",
   "execution_count": null,
   "id": "74df70db-083a-4445-bb77-439cc5b67d7b",
   "metadata": {},
   "outputs": [],
   "source": [
    "df"
   ]
  },
  {
   "cell_type": "code",
   "execution_count": null,
   "id": "f89b3ce5-a0fa-4c8c-b1aa-76d837dcb9b9",
   "metadata": {},
   "outputs": [],
   "source": [
    "data = JSONCleaner().clean_data(df, Country.PT.value)"
   ]
  },
  {
   "cell_type": "code",
   "execution_count": null,
   "id": "8e0b560b-b3a0-455e-b469-fc68a8d77571",
   "metadata": {},
   "outputs": [],
   "source": [
    "data"
   ]
  },
  {
   "cell_type": "code",
   "execution_count": null,
   "id": "1029db7a-e928-43b0-97b3-0e7e09a7f27c",
   "metadata": {},
   "outputs": [],
   "source": [
    "data.dtypes"
   ]
  },
  {
   "cell_type": "code",
   "execution_count": null,
   "id": "ec63f115-4a6d-47ad-b33c-dd5fbea03143",
   "metadata": {},
   "outputs": [],
   "source": [
    "path_to_file = os.path.join(DATA_DIR, \"eurostat_life_expect.json\")"
   ]
  },
  {
   "cell_type": "code",
   "execution_count": null,
   "id": "4e576d10-c9e6-4ea9-8ca5-30020866cab0",
   "metadata": {},
   "outputs": [],
   "source": [
    "path_to_file"
   ]
  },
  {
   "cell_type": "code",
   "execution_count": null,
   "id": "00dc7b12-baff-417b-b048-9a1b0eb7a5a0",
   "metadata": {},
   "outputs": [],
   "source": [
    "path_to_file.dtype"
   ]
  },
  {
   "cell_type": "code",
   "execution_count": null,
   "id": "98f78184-2202-488c-b61d-d88ad247b660",
   "metadata": {},
   "outputs": [],
   "source": [
    "get(path_to_file.suffix)\n",
    "\n",
    "    cleaner_dict = {\n",
    "        '.tsv': TSVCleaner(country_code, path_to_file),\n",
    "        '.json': JSONCleaner(country_code, path_to_file)\n",
    "    }"
   ]
  },
  {
   "cell_type": "code",
   "execution_count": null,
   "id": "808c3354-477e-40ad-a6a3-5e617ef34670",
   "metadata": {},
   "outputs": [],
   "source": [
    "from life_expectancy.main import main\n",
    "from life_expectancy.constants import DATA_DIR\n",
    "import os"
   ]
  },
  {
   "cell_type": "code",
   "execution_count": null,
   "id": "c25c44d9-2d05-4a31-a62c-b38bdcd449a0",
   "metadata": {},
   "outputs": [],
   "source": [
    "main"
   ]
  },
  {
   "cell_type": "code",
   "execution_count": null,
   "id": "382c5f39-e6b7-4de3-9b5d-d5ce7d641e79",
   "metadata": {},
   "outputs": [],
   "source": [
    "df = main(DATA_DIR, country=\"PT\", file_path=os.path.join(DATA_DIR, \"eurostat_life_expect.json\"), extension_file=\".json\")"
   ]
  },
  {
   "cell_type": "code",
   "execution_count": null,
   "id": "328d2a9b-74b8-4ec4-b2ac-e4f41e74e34b",
   "metadata": {},
   "outputs": [],
   "source": [
    "df = main(DATA_DIR, country=\"PT\", file_path=os.path.join(DATA_DIR, \"pt_life_expectancy.csv\"), extension_file=\".csv\")"
   ]
  },
  {
   "cell_type": "code",
   "execution_count": null,
   "id": "18203dd3-9ee4-4620-9258-d2a11d3e0af4",
   "metadata": {},
   "outputs": [],
   "source": [
    "df"
   ]
  }
 ],
 "metadata": {
  "kernelspec": {
   "display_name": "Python 3 (ipykernel)",
   "language": "python",
   "name": "python3"
  },
  "language_info": {
   "codemirror_mode": {
    "name": "ipython",
    "version": 3
   },
   "file_extension": ".py",
   "mimetype": "text/x-python",
   "name": "python",
   "nbconvert_exporter": "python",
   "pygments_lexer": "ipython3",
   "version": "3.10.4"
  }
 },
 "nbformat": 4,
 "nbformat_minor": 5
}
